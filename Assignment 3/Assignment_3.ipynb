{
 "cells": [
  {
   "cell_type": "markdown",
   "metadata": {
    "id": "2Lr3RIsGcQLy"
   },
   "source": [
    "# Assignment 3\n",
    "\n",
    "This assignment has one main part:\n",
    "\n",
    "**PCA** : In this part the goal is to implement the dimensionality reduction technique *Principal Component Analysis (PCA)* to a very high dimensional data and apply visualization. Note that you are not allowed to use the built-in PCA API provided by the sklearn library. Instead you will be implementing from the scratch. Use the data in data/train.csv for generating the PCA. See the detailed intructions below.\n",
    "    \n",
    "\n",
    "For this task we use the  MovieLens dataset. The data is in train.csv.\n",
    "   "
   ]
  },
  {
   "cell_type": "code",
   "execution_count": 72,
   "metadata": {
    "id": "QDM56_RscQMB"
   },
   "outputs": [],
   "source": [
    "import numpy as np\n",
    "import pandas as pd\n",
    "from scipy.linalg import sqrtm\n",
    "from sklearn.preprocessing import StandardScaler"
   ]
  },
  {
   "cell_type": "markdown",
   "metadata": {
    "id": "uu4ONaTfcQMG"
   },
   "source": [
    "# Part-1a: Convert data to user-movie rating matrix (10 points)\n",
    "    - Read the train.csv file and movies.dat file and use user_id and movie_id to create user-movie rating matrix\n"
   ]
  },
  {
   "cell_type": "code",
   "execution_count": 73,
   "metadata": {
    "id": "3Vc2jKSScQMJ"
   },
   "outputs": [],
   "source": [
    "def readMovieRatingData():\n",
    "    # TODO Read the user-movie rating in data/train.csv and convert it to a user-movie rating matrix (users in the rows and movies in the colums)\n",
    "    # Mind the header row in the train.csv\n",
    "    df = pd.read_csv('data/train.csv')\n",
    "    return df.pivot(index = 'user_id', columns = 'movie_id', values = 'rating').fillna(0)"
   ]
  },
  {
   "cell_type": "code",
   "execution_count": 74,
   "metadata": {
    "id": "Dquh0SMScQMN"
   },
   "outputs": [
    {
     "data": {
      "text/html": [
       "<div>\n",
       "<style scoped>\n",
       "    .dataframe tbody tr th:only-of-type {\n",
       "        vertical-align: middle;\n",
       "    }\n",
       "\n",
       "    .dataframe tbody tr th {\n",
       "        vertical-align: top;\n",
       "    }\n",
       "\n",
       "    .dataframe thead th {\n",
       "        text-align: right;\n",
       "    }\n",
       "</style>\n",
       "<table border=\"1\" class=\"dataframe\">\n",
       "  <thead>\n",
       "    <tr style=\"text-align: right;\">\n",
       "      <th>movie_id</th>\n",
       "      <th>1</th>\n",
       "      <th>2</th>\n",
       "      <th>3</th>\n",
       "      <th>4</th>\n",
       "      <th>5</th>\n",
       "      <th>6</th>\n",
       "      <th>7</th>\n",
       "      <th>8</th>\n",
       "      <th>9</th>\n",
       "      <th>10</th>\n",
       "      <th>...</th>\n",
       "      <th>3943</th>\n",
       "      <th>3944</th>\n",
       "      <th>3945</th>\n",
       "      <th>3946</th>\n",
       "      <th>3947</th>\n",
       "      <th>3948</th>\n",
       "      <th>3949</th>\n",
       "      <th>3950</th>\n",
       "      <th>3951</th>\n",
       "      <th>3952</th>\n",
       "    </tr>\n",
       "    <tr>\n",
       "      <th>user_id</th>\n",
       "      <th></th>\n",
       "      <th></th>\n",
       "      <th></th>\n",
       "      <th></th>\n",
       "      <th></th>\n",
       "      <th></th>\n",
       "      <th></th>\n",
       "      <th></th>\n",
       "      <th></th>\n",
       "      <th></th>\n",
       "      <th></th>\n",
       "      <th></th>\n",
       "      <th></th>\n",
       "      <th></th>\n",
       "      <th></th>\n",
       "      <th></th>\n",
       "      <th></th>\n",
       "      <th></th>\n",
       "      <th></th>\n",
       "      <th></th>\n",
       "      <th></th>\n",
       "    </tr>\n",
       "  </thead>\n",
       "  <tbody>\n",
       "    <tr>\n",
       "      <th>1</th>\n",
       "      <td>0.0</td>\n",
       "      <td>0.0</td>\n",
       "      <td>0.0</td>\n",
       "      <td>0.0</td>\n",
       "      <td>0.0</td>\n",
       "      <td>0.0</td>\n",
       "      <td>0.0</td>\n",
       "      <td>0.0</td>\n",
       "      <td>0.0</td>\n",
       "      <td>0.0</td>\n",
       "      <td>...</td>\n",
       "      <td>0.0</td>\n",
       "      <td>0.0</td>\n",
       "      <td>0.0</td>\n",
       "      <td>0.0</td>\n",
       "      <td>0.0</td>\n",
       "      <td>0.0</td>\n",
       "      <td>0.0</td>\n",
       "      <td>0.0</td>\n",
       "      <td>0.0</td>\n",
       "      <td>0.0</td>\n",
       "    </tr>\n",
       "    <tr>\n",
       "      <th>2</th>\n",
       "      <td>0.0</td>\n",
       "      <td>0.0</td>\n",
       "      <td>0.0</td>\n",
       "      <td>0.0</td>\n",
       "      <td>0.0</td>\n",
       "      <td>0.0</td>\n",
       "      <td>0.0</td>\n",
       "      <td>0.0</td>\n",
       "      <td>0.0</td>\n",
       "      <td>0.0</td>\n",
       "      <td>...</td>\n",
       "      <td>0.0</td>\n",
       "      <td>0.0</td>\n",
       "      <td>0.0</td>\n",
       "      <td>0.0</td>\n",
       "      <td>0.0</td>\n",
       "      <td>0.0</td>\n",
       "      <td>0.0</td>\n",
       "      <td>0.0</td>\n",
       "      <td>0.0</td>\n",
       "      <td>0.0</td>\n",
       "    </tr>\n",
       "    <tr>\n",
       "      <th>3</th>\n",
       "      <td>0.0</td>\n",
       "      <td>0.0</td>\n",
       "      <td>0.0</td>\n",
       "      <td>0.0</td>\n",
       "      <td>0.0</td>\n",
       "      <td>0.0</td>\n",
       "      <td>0.0</td>\n",
       "      <td>0.0</td>\n",
       "      <td>0.0</td>\n",
       "      <td>0.0</td>\n",
       "      <td>...</td>\n",
       "      <td>0.0</td>\n",
       "      <td>0.0</td>\n",
       "      <td>0.0</td>\n",
       "      <td>0.0</td>\n",
       "      <td>0.0</td>\n",
       "      <td>0.0</td>\n",
       "      <td>0.0</td>\n",
       "      <td>0.0</td>\n",
       "      <td>0.0</td>\n",
       "      <td>0.0</td>\n",
       "    </tr>\n",
       "    <tr>\n",
       "      <th>4</th>\n",
       "      <td>0.0</td>\n",
       "      <td>0.0</td>\n",
       "      <td>0.0</td>\n",
       "      <td>0.0</td>\n",
       "      <td>0.0</td>\n",
       "      <td>0.0</td>\n",
       "      <td>0.0</td>\n",
       "      <td>0.0</td>\n",
       "      <td>0.0</td>\n",
       "      <td>0.0</td>\n",
       "      <td>...</td>\n",
       "      <td>0.0</td>\n",
       "      <td>0.0</td>\n",
       "      <td>0.0</td>\n",
       "      <td>0.0</td>\n",
       "      <td>0.0</td>\n",
       "      <td>0.0</td>\n",
       "      <td>0.0</td>\n",
       "      <td>0.0</td>\n",
       "      <td>0.0</td>\n",
       "      <td>0.0</td>\n",
       "    </tr>\n",
       "    <tr>\n",
       "      <th>5</th>\n",
       "      <td>0.0</td>\n",
       "      <td>0.0</td>\n",
       "      <td>0.0</td>\n",
       "      <td>0.0</td>\n",
       "      <td>0.0</td>\n",
       "      <td>0.0</td>\n",
       "      <td>0.0</td>\n",
       "      <td>0.0</td>\n",
       "      <td>0.0</td>\n",
       "      <td>0.0</td>\n",
       "      <td>...</td>\n",
       "      <td>0.0</td>\n",
       "      <td>0.0</td>\n",
       "      <td>0.0</td>\n",
       "      <td>0.0</td>\n",
       "      <td>0.0</td>\n",
       "      <td>0.0</td>\n",
       "      <td>0.0</td>\n",
       "      <td>0.0</td>\n",
       "      <td>0.0</td>\n",
       "      <td>0.0</td>\n",
       "    </tr>\n",
       "  </tbody>\n",
       "</table>\n",
       "<p>5 rows × 3666 columns</p>\n",
       "</div>"
      ],
      "text/plain": [
       "movie_id  1     2     3     4     5     6     7     8     9     10    ...  \\\n",
       "user_id                                                               ...   \n",
       "1          0.0   0.0   0.0   0.0   0.0   0.0   0.0   0.0   0.0   0.0  ...   \n",
       "2          0.0   0.0   0.0   0.0   0.0   0.0   0.0   0.0   0.0   0.0  ...   \n",
       "3          0.0   0.0   0.0   0.0   0.0   0.0   0.0   0.0   0.0   0.0  ...   \n",
       "4          0.0   0.0   0.0   0.0   0.0   0.0   0.0   0.0   0.0   0.0  ...   \n",
       "5          0.0   0.0   0.0   0.0   0.0   0.0   0.0   0.0   0.0   0.0  ...   \n",
       "\n",
       "movie_id  3943  3944  3945  3946  3947  3948  3949  3950  3951  3952  \n",
       "user_id                                                               \n",
       "1          0.0   0.0   0.0   0.0   0.0   0.0   0.0   0.0   0.0   0.0  \n",
       "2          0.0   0.0   0.0   0.0   0.0   0.0   0.0   0.0   0.0   0.0  \n",
       "3          0.0   0.0   0.0   0.0   0.0   0.0   0.0   0.0   0.0   0.0  \n",
       "4          0.0   0.0   0.0   0.0   0.0   0.0   0.0   0.0   0.0   0.0  \n",
       "5          0.0   0.0   0.0   0.0   0.0   0.0   0.0   0.0   0.0   0.0  \n",
       "\n",
       "[5 rows x 3666 columns]"
      ]
     },
     "execution_count": 74,
     "metadata": {},
     "output_type": "execute_result"
    }
   ],
   "source": [
    "user_rating = readMovieRatingData()\n",
    "user_rating.head()"
   ]
  },
  {
   "cell_type": "code",
   "execution_count": 75,
   "metadata": {},
   "outputs": [],
   "source": [
    "cols = [x for x in user_rating.columns]"
   ]
  },
  {
   "cell_type": "code",
   "execution_count": 76,
   "metadata": {
    "id": "kYFt5uDAcQMN"
   },
   "outputs": [],
   "source": [
    "def readMovieDeata():\n",
    "    # Read the movie data from data/movies.dat\n",
    "    movie_data = pd.read_csv('data/movies.dat', sep='::', header = None, names=['movie_id', 'title', 'genres'])\n",
    "    movie_data[\"genres\"] = movie_data[\"genres\"].apply(lambda x: x.split('|'))\n",
    "    return movie_data"
   ]
  },
  {
   "cell_type": "code",
   "execution_count": 77,
   "metadata": {
    "id": "DMKU-e5ecQMQ"
   },
   "outputs": [
    {
     "name": "stderr",
     "output_type": "stream",
     "text": [
      "c:\\users\\rehman\\appdata\\local\\programs\\python\\python37\\lib\\site-packages\\ipykernel_launcher.py:3: ParserWarning: Falling back to the 'python' engine because the 'c' engine does not support regex separators (separators > 1 char and different from '\\s+' are interpreted as regex); you can avoid this warning by specifying engine='python'.\n",
      "  This is separate from the ipykernel package so we can avoid doing imports until\n"
     ]
    },
    {
     "data": {
      "text/html": [
       "<div>\n",
       "<style scoped>\n",
       "    .dataframe tbody tr th:only-of-type {\n",
       "        vertical-align: middle;\n",
       "    }\n",
       "\n",
       "    .dataframe tbody tr th {\n",
       "        vertical-align: top;\n",
       "    }\n",
       "\n",
       "    .dataframe thead th {\n",
       "        text-align: right;\n",
       "    }\n",
       "</style>\n",
       "<table border=\"1\" class=\"dataframe\">\n",
       "  <thead>\n",
       "    <tr style=\"text-align: right;\">\n",
       "      <th></th>\n",
       "      <th>movie_id</th>\n",
       "      <th>title</th>\n",
       "      <th>genres</th>\n",
       "    </tr>\n",
       "  </thead>\n",
       "  <tbody>\n",
       "    <tr>\n",
       "      <th>0</th>\n",
       "      <td>1</td>\n",
       "      <td>Toy Story (1995)</td>\n",
       "      <td>[Animation, Children's, Comedy]</td>\n",
       "    </tr>\n",
       "    <tr>\n",
       "      <th>1</th>\n",
       "      <td>2</td>\n",
       "      <td>Jumanji (1995)</td>\n",
       "      <td>[Adventure, Children's, Fantasy]</td>\n",
       "    </tr>\n",
       "    <tr>\n",
       "      <th>2</th>\n",
       "      <td>3</td>\n",
       "      <td>Grumpier Old Men (1995)</td>\n",
       "      <td>[Comedy, Romance]</td>\n",
       "    </tr>\n",
       "    <tr>\n",
       "      <th>3</th>\n",
       "      <td>4</td>\n",
       "      <td>Waiting to Exhale (1995)</td>\n",
       "      <td>[Comedy, Drama]</td>\n",
       "    </tr>\n",
       "    <tr>\n",
       "      <th>4</th>\n",
       "      <td>5</td>\n",
       "      <td>Father of the Bride Part II (1995)</td>\n",
       "      <td>[Comedy]</td>\n",
       "    </tr>\n",
       "  </tbody>\n",
       "</table>\n",
       "</div>"
      ],
      "text/plain": [
       "   movie_id                               title  \\\n",
       "0         1                    Toy Story (1995)   \n",
       "1         2                      Jumanji (1995)   \n",
       "2         3             Grumpier Old Men (1995)   \n",
       "3         4            Waiting to Exhale (1995)   \n",
       "4         5  Father of the Bride Part II (1995)   \n",
       "\n",
       "                             genres  \n",
       "0   [Animation, Children's, Comedy]  \n",
       "1  [Adventure, Children's, Fantasy]  \n",
       "2                 [Comedy, Romance]  \n",
       "3                   [Comedy, Drama]  \n",
       "4                          [Comedy]  "
      ]
     },
     "execution_count": 77,
     "metadata": {},
     "output_type": "execute_result"
    }
   ],
   "source": [
    "movie_data = readMovieDeata()\n",
    "movie_data.head()"
   ]
  },
  {
   "cell_type": "code",
   "execution_count": 78,
   "metadata": {},
   "outputs": [],
   "source": [
    "# Dropping movies which are not present in user_rating matrix\n",
    "movie_data = movie_data[movie_data[\"movie_id\"].isin(cols)]\n",
    "movie_data = movie_data.reset_index(drop=True)"
   ]
  },
  {
   "cell_type": "code",
   "execution_count": 79,
   "metadata": {},
   "outputs": [
    {
     "data": {
      "text/plain": [
       "(3666, 3)"
      ]
     },
     "execution_count": 79,
     "metadata": {},
     "output_type": "execute_result"
    }
   ],
   "source": [
    "movie_data.shape"
   ]
  },
  {
   "cell_type": "markdown",
   "metadata": {
    "id": "o8L1pkvQcQMS"
   },
   "source": [
    "## We are going to compute PCA for movies so transpose the matrix using X=readMovieRatingData().T\n"
   ]
  },
  {
   "cell_type": "code",
   "execution_count": 80,
   "metadata": {},
   "outputs": [
    {
     "data": {
      "text/html": [
       "<div>\n",
       "<style scoped>\n",
       "    .dataframe tbody tr th:only-of-type {\n",
       "        vertical-align: middle;\n",
       "    }\n",
       "\n",
       "    .dataframe tbody tr th {\n",
       "        vertical-align: top;\n",
       "    }\n",
       "\n",
       "    .dataframe thead th {\n",
       "        text-align: right;\n",
       "    }\n",
       "</style>\n",
       "<table border=\"1\" class=\"dataframe\">\n",
       "  <thead>\n",
       "    <tr style=\"text-align: right;\">\n",
       "      <th>user_id</th>\n",
       "      <th>1</th>\n",
       "      <th>2</th>\n",
       "      <th>3</th>\n",
       "      <th>4</th>\n",
       "      <th>5</th>\n",
       "      <th>6</th>\n",
       "      <th>7</th>\n",
       "      <th>8</th>\n",
       "      <th>9</th>\n",
       "      <th>10</th>\n",
       "      <th>...</th>\n",
       "      <th>6031</th>\n",
       "      <th>6032</th>\n",
       "      <th>6033</th>\n",
       "      <th>6034</th>\n",
       "      <th>6035</th>\n",
       "      <th>6036</th>\n",
       "      <th>6037</th>\n",
       "      <th>6038</th>\n",
       "      <th>6039</th>\n",
       "      <th>6040</th>\n",
       "    </tr>\n",
       "    <tr>\n",
       "      <th>movie_id</th>\n",
       "      <th></th>\n",
       "      <th></th>\n",
       "      <th></th>\n",
       "      <th></th>\n",
       "      <th></th>\n",
       "      <th></th>\n",
       "      <th></th>\n",
       "      <th></th>\n",
       "      <th></th>\n",
       "      <th></th>\n",
       "      <th></th>\n",
       "      <th></th>\n",
       "      <th></th>\n",
       "      <th></th>\n",
       "      <th></th>\n",
       "      <th></th>\n",
       "      <th></th>\n",
       "      <th></th>\n",
       "      <th></th>\n",
       "      <th></th>\n",
       "      <th></th>\n",
       "    </tr>\n",
       "  </thead>\n",
       "  <tbody>\n",
       "    <tr>\n",
       "      <th>1</th>\n",
       "      <td>0.0</td>\n",
       "      <td>0.0</td>\n",
       "      <td>0.0</td>\n",
       "      <td>0.0</td>\n",
       "      <td>0.0</td>\n",
       "      <td>4.0</td>\n",
       "      <td>0.0</td>\n",
       "      <td>0.0</td>\n",
       "      <td>5.0</td>\n",
       "      <td>5.0</td>\n",
       "      <td>...</td>\n",
       "      <td>0.0</td>\n",
       "      <td>4.0</td>\n",
       "      <td>0.0</td>\n",
       "      <td>0.0</td>\n",
       "      <td>4.0</td>\n",
       "      <td>0.0</td>\n",
       "      <td>0.0</td>\n",
       "      <td>0.0</td>\n",
       "      <td>0.0</td>\n",
       "      <td>3.0</td>\n",
       "    </tr>\n",
       "    <tr>\n",
       "      <th>2</th>\n",
       "      <td>0.0</td>\n",
       "      <td>0.0</td>\n",
       "      <td>0.0</td>\n",
       "      <td>0.0</td>\n",
       "      <td>0.0</td>\n",
       "      <td>0.0</td>\n",
       "      <td>0.0</td>\n",
       "      <td>0.0</td>\n",
       "      <td>0.0</td>\n",
       "      <td>0.0</td>\n",
       "      <td>...</td>\n",
       "      <td>0.0</td>\n",
       "      <td>0.0</td>\n",
       "      <td>0.0</td>\n",
       "      <td>0.0</td>\n",
       "      <td>0.0</td>\n",
       "      <td>0.0</td>\n",
       "      <td>0.0</td>\n",
       "      <td>0.0</td>\n",
       "      <td>0.0</td>\n",
       "      <td>0.0</td>\n",
       "    </tr>\n",
       "    <tr>\n",
       "      <th>3</th>\n",
       "      <td>0.0</td>\n",
       "      <td>0.0</td>\n",
       "      <td>0.0</td>\n",
       "      <td>0.0</td>\n",
       "      <td>0.0</td>\n",
       "      <td>0.0</td>\n",
       "      <td>0.0</td>\n",
       "      <td>0.0</td>\n",
       "      <td>0.0</td>\n",
       "      <td>0.0</td>\n",
       "      <td>...</td>\n",
       "      <td>0.0</td>\n",
       "      <td>0.0</td>\n",
       "      <td>0.0</td>\n",
       "      <td>0.0</td>\n",
       "      <td>0.0</td>\n",
       "      <td>0.0</td>\n",
       "      <td>0.0</td>\n",
       "      <td>0.0</td>\n",
       "      <td>0.0</td>\n",
       "      <td>0.0</td>\n",
       "    </tr>\n",
       "    <tr>\n",
       "      <th>4</th>\n",
       "      <td>0.0</td>\n",
       "      <td>0.0</td>\n",
       "      <td>0.0</td>\n",
       "      <td>0.0</td>\n",
       "      <td>0.0</td>\n",
       "      <td>0.0</td>\n",
       "      <td>0.0</td>\n",
       "      <td>0.0</td>\n",
       "      <td>0.0</td>\n",
       "      <td>0.0</td>\n",
       "      <td>...</td>\n",
       "      <td>0.0</td>\n",
       "      <td>0.0</td>\n",
       "      <td>0.0</td>\n",
       "      <td>0.0</td>\n",
       "      <td>2.0</td>\n",
       "      <td>0.0</td>\n",
       "      <td>0.0</td>\n",
       "      <td>0.0</td>\n",
       "      <td>0.0</td>\n",
       "      <td>0.0</td>\n",
       "    </tr>\n",
       "    <tr>\n",
       "      <th>5</th>\n",
       "      <td>0.0</td>\n",
       "      <td>0.0</td>\n",
       "      <td>0.0</td>\n",
       "      <td>0.0</td>\n",
       "      <td>0.0</td>\n",
       "      <td>0.0</td>\n",
       "      <td>0.0</td>\n",
       "      <td>0.0</td>\n",
       "      <td>0.0</td>\n",
       "      <td>0.0</td>\n",
       "      <td>...</td>\n",
       "      <td>0.0</td>\n",
       "      <td>0.0</td>\n",
       "      <td>0.0</td>\n",
       "      <td>0.0</td>\n",
       "      <td>1.0</td>\n",
       "      <td>0.0</td>\n",
       "      <td>0.0</td>\n",
       "      <td>0.0</td>\n",
       "      <td>0.0</td>\n",
       "      <td>0.0</td>\n",
       "    </tr>\n",
       "  </tbody>\n",
       "</table>\n",
       "<p>5 rows × 6040 columns</p>\n",
       "</div>"
      ],
      "text/plain": [
       "user_id   1     2     3     4     5     6     7     8     9     10    ...  \\\n",
       "movie_id                                                              ...   \n",
       "1          0.0   0.0   0.0   0.0   0.0   4.0   0.0   0.0   5.0   5.0  ...   \n",
       "2          0.0   0.0   0.0   0.0   0.0   0.0   0.0   0.0   0.0   0.0  ...   \n",
       "3          0.0   0.0   0.0   0.0   0.0   0.0   0.0   0.0   0.0   0.0  ...   \n",
       "4          0.0   0.0   0.0   0.0   0.0   0.0   0.0   0.0   0.0   0.0  ...   \n",
       "5          0.0   0.0   0.0   0.0   0.0   0.0   0.0   0.0   0.0   0.0  ...   \n",
       "\n",
       "user_id   6031  6032  6033  6034  6035  6036  6037  6038  6039  6040  \n",
       "movie_id                                                              \n",
       "1          0.0   4.0   0.0   0.0   4.0   0.0   0.0   0.0   0.0   3.0  \n",
       "2          0.0   0.0   0.0   0.0   0.0   0.0   0.0   0.0   0.0   0.0  \n",
       "3          0.0   0.0   0.0   0.0   0.0   0.0   0.0   0.0   0.0   0.0  \n",
       "4          0.0   0.0   0.0   0.0   2.0   0.0   0.0   0.0   0.0   0.0  \n",
       "5          0.0   0.0   0.0   0.0   1.0   0.0   0.0   0.0   0.0   0.0  \n",
       "\n",
       "[5 rows x 6040 columns]"
      ]
     },
     "execution_count": 80,
     "metadata": {},
     "output_type": "execute_result"
    }
   ],
   "source": [
    "user_rating = user_rating.T\n",
    "user_rating.head()"
   ]
  },
  {
   "cell_type": "markdown",
   "metadata": {
    "id": "bGZmeFtwcQMT"
   },
   "source": [
    "# Part-1b: Preprocessing  (10 points)\n",
    "Before implementing PCA you are required to perform some preprocessing steps:\n",
    "1. Mean normalization: Replace each feature/attribute, $x_{ji}$ with $x_j - \\mu_j$, In other words, determine the mean of each feature set, and then for each feature subtract the mean from the value, so we re-scale the mean to be 0 \n",
    "2. Feature scaling: If features have very different scales then scale make them comparable by altering the scale, so they all have a comparable range of values e.g. $x_{ji}$ is set to $(x_j - \\mu_j) / s_j$  Where $s_j$ is some measure of the range, so could be  $\\max(x_j) - \\min(x_j)$ or Standard deviation $stddev(x_j)$."
   ]
  },
  {
   "cell_type": "code",
   "execution_count": 81,
   "metadata": {
    "id": "FeEK1pHzcQMV"
   },
   "outputs": [],
   "source": [
    "# TODO We can see features have very different scales. So we apply feature scaling with Standard \n",
    "# deviation as measure of the range, using StandardScaler from scikit-learn\n",
    "scaler = StandardScaler()\n",
    "scaler = scaler.fit(user_rating)\n",
    "Y = scaler.transform(user_rating)\n",
    "user_rating_scaled = pd.DataFrame(Y, index = user_rating.index, columns = user_rating.columns)"
   ]
  },
  {
   "cell_type": "code",
   "execution_count": 82,
   "metadata": {},
   "outputs": [
    {
     "data": {
      "text/html": [
       "<div>\n",
       "<style scoped>\n",
       "    .dataframe tbody tr th:only-of-type {\n",
       "        vertical-align: middle;\n",
       "    }\n",
       "\n",
       "    .dataframe tbody tr th {\n",
       "        vertical-align: top;\n",
       "    }\n",
       "\n",
       "    .dataframe thead th {\n",
       "        text-align: right;\n",
       "    }\n",
       "</style>\n",
       "<table border=\"1\" class=\"dataframe\">\n",
       "  <thead>\n",
       "    <tr style=\"text-align: right;\">\n",
       "      <th>user_id</th>\n",
       "      <th>1</th>\n",
       "      <th>2</th>\n",
       "      <th>3</th>\n",
       "      <th>4</th>\n",
       "      <th>5</th>\n",
       "      <th>6</th>\n",
       "      <th>7</th>\n",
       "      <th>8</th>\n",
       "      <th>9</th>\n",
       "      <th>10</th>\n",
       "      <th>...</th>\n",
       "      <th>6031</th>\n",
       "      <th>6032</th>\n",
       "      <th>6033</th>\n",
       "      <th>6034</th>\n",
       "      <th>6035</th>\n",
       "      <th>6036</th>\n",
       "      <th>6037</th>\n",
       "      <th>6038</th>\n",
       "      <th>6039</th>\n",
       "      <th>6040</th>\n",
       "    </tr>\n",
       "    <tr>\n",
       "      <th>movie_id</th>\n",
       "      <th></th>\n",
       "      <th></th>\n",
       "      <th></th>\n",
       "      <th></th>\n",
       "      <th></th>\n",
       "      <th></th>\n",
       "      <th></th>\n",
       "      <th></th>\n",
       "      <th></th>\n",
       "      <th></th>\n",
       "      <th></th>\n",
       "      <th></th>\n",
       "      <th></th>\n",
       "      <th></th>\n",
       "      <th></th>\n",
       "      <th></th>\n",
       "      <th></th>\n",
       "      <th></th>\n",
       "      <th></th>\n",
       "      <th></th>\n",
       "      <th></th>\n",
       "    </tr>\n",
       "  </thead>\n",
       "  <tbody>\n",
       "    <tr>\n",
       "      <th>1</th>\n",
       "      <td>-0.105032</td>\n",
       "      <td>-0.163482</td>\n",
       "      <td>-0.101211</td>\n",
       "      <td>-0.061535</td>\n",
       "      <td>-0.198809</td>\n",
       "      <td>8.251568</td>\n",
       "      <td>-0.078277</td>\n",
       "      <td>-0.171434</td>\n",
       "      <td>8.546444</td>\n",
       "      <td>3.963329</td>\n",
       "      <td>...</td>\n",
       "      <td>-0.096349</td>\n",
       "      <td>6.076739</td>\n",
       "      <td>-0.110287</td>\n",
       "      <td>-0.062546</td>\n",
       "      <td>4.947631</td>\n",
       "      <td>-0.466348</td>\n",
       "      <td>-0.207693</td>\n",
       "      <td>-0.060371</td>\n",
       "      <td>-0.161818</td>\n",
       "      <td>2.818993</td>\n",
       "    </tr>\n",
       "    <tr>\n",
       "      <th>2</th>\n",
       "      <td>-0.105032</td>\n",
       "      <td>-0.163482</td>\n",
       "      <td>-0.101211</td>\n",
       "      <td>-0.061535</td>\n",
       "      <td>-0.198809</td>\n",
       "      <td>-0.120465</td>\n",
       "      <td>-0.078277</td>\n",
       "      <td>-0.171434</td>\n",
       "      <td>-0.148473</td>\n",
       "      <td>-0.301793</td>\n",
       "      <td>...</td>\n",
       "      <td>-0.096349</td>\n",
       "      <td>-0.147281</td>\n",
       "      <td>-0.110287</td>\n",
       "      <td>-0.062546</td>\n",
       "      <td>-0.222472</td>\n",
       "      <td>-0.466348</td>\n",
       "      <td>-0.207693</td>\n",
       "      <td>-0.060371</td>\n",
       "      <td>-0.161818</td>\n",
       "      <td>-0.264377</td>\n",
       "    </tr>\n",
       "    <tr>\n",
       "      <th>3</th>\n",
       "      <td>-0.105032</td>\n",
       "      <td>-0.163482</td>\n",
       "      <td>-0.101211</td>\n",
       "      <td>-0.061535</td>\n",
       "      <td>-0.198809</td>\n",
       "      <td>-0.120465</td>\n",
       "      <td>-0.078277</td>\n",
       "      <td>-0.171434</td>\n",
       "      <td>-0.148473</td>\n",
       "      <td>-0.301793</td>\n",
       "      <td>...</td>\n",
       "      <td>-0.096349</td>\n",
       "      <td>-0.147281</td>\n",
       "      <td>-0.110287</td>\n",
       "      <td>-0.062546</td>\n",
       "      <td>-0.222472</td>\n",
       "      <td>-0.466348</td>\n",
       "      <td>-0.207693</td>\n",
       "      <td>-0.060371</td>\n",
       "      <td>-0.161818</td>\n",
       "      <td>-0.264377</td>\n",
       "    </tr>\n",
       "    <tr>\n",
       "      <th>4</th>\n",
       "      <td>-0.105032</td>\n",
       "      <td>-0.163482</td>\n",
       "      <td>-0.101211</td>\n",
       "      <td>-0.061535</td>\n",
       "      <td>-0.198809</td>\n",
       "      <td>-0.120465</td>\n",
       "      <td>-0.078277</td>\n",
       "      <td>-0.171434</td>\n",
       "      <td>-0.148473</td>\n",
       "      <td>-0.301793</td>\n",
       "      <td>...</td>\n",
       "      <td>-0.096349</td>\n",
       "      <td>-0.147281</td>\n",
       "      <td>-0.110287</td>\n",
       "      <td>-0.062546</td>\n",
       "      <td>2.362579</td>\n",
       "      <td>-0.466348</td>\n",
       "      <td>-0.207693</td>\n",
       "      <td>-0.060371</td>\n",
       "      <td>-0.161818</td>\n",
       "      <td>-0.264377</td>\n",
       "    </tr>\n",
       "    <tr>\n",
       "      <th>5</th>\n",
       "      <td>-0.105032</td>\n",
       "      <td>-0.163482</td>\n",
       "      <td>-0.101211</td>\n",
       "      <td>-0.061535</td>\n",
       "      <td>-0.198809</td>\n",
       "      <td>-0.120465</td>\n",
       "      <td>-0.078277</td>\n",
       "      <td>-0.171434</td>\n",
       "      <td>-0.148473</td>\n",
       "      <td>-0.301793</td>\n",
       "      <td>...</td>\n",
       "      <td>-0.096349</td>\n",
       "      <td>-0.147281</td>\n",
       "      <td>-0.110287</td>\n",
       "      <td>-0.062546</td>\n",
       "      <td>1.070053</td>\n",
       "      <td>-0.466348</td>\n",
       "      <td>-0.207693</td>\n",
       "      <td>-0.060371</td>\n",
       "      <td>-0.161818</td>\n",
       "      <td>-0.264377</td>\n",
       "    </tr>\n",
       "  </tbody>\n",
       "</table>\n",
       "<p>5 rows × 6040 columns</p>\n",
       "</div>"
      ],
      "text/plain": [
       "user_id       1         2         3         4         5         6     \\\n",
       "movie_id                                                               \n",
       "1        -0.105032 -0.163482 -0.101211 -0.061535 -0.198809  8.251568   \n",
       "2        -0.105032 -0.163482 -0.101211 -0.061535 -0.198809 -0.120465   \n",
       "3        -0.105032 -0.163482 -0.101211 -0.061535 -0.198809 -0.120465   \n",
       "4        -0.105032 -0.163482 -0.101211 -0.061535 -0.198809 -0.120465   \n",
       "5        -0.105032 -0.163482 -0.101211 -0.061535 -0.198809 -0.120465   \n",
       "\n",
       "user_id       7         8         9         10    ...      6031      6032  \\\n",
       "movie_id                                          ...                       \n",
       "1        -0.078277 -0.171434  8.546444  3.963329  ... -0.096349  6.076739   \n",
       "2        -0.078277 -0.171434 -0.148473 -0.301793  ... -0.096349 -0.147281   \n",
       "3        -0.078277 -0.171434 -0.148473 -0.301793  ... -0.096349 -0.147281   \n",
       "4        -0.078277 -0.171434 -0.148473 -0.301793  ... -0.096349 -0.147281   \n",
       "5        -0.078277 -0.171434 -0.148473 -0.301793  ... -0.096349 -0.147281   \n",
       "\n",
       "user_id       6033      6034      6035      6036      6037      6038  \\\n",
       "movie_id                                                               \n",
       "1        -0.110287 -0.062546  4.947631 -0.466348 -0.207693 -0.060371   \n",
       "2        -0.110287 -0.062546 -0.222472 -0.466348 -0.207693 -0.060371   \n",
       "3        -0.110287 -0.062546 -0.222472 -0.466348 -0.207693 -0.060371   \n",
       "4        -0.110287 -0.062546  2.362579 -0.466348 -0.207693 -0.060371   \n",
       "5        -0.110287 -0.062546  1.070053 -0.466348 -0.207693 -0.060371   \n",
       "\n",
       "user_id       6039      6040  \n",
       "movie_id                      \n",
       "1        -0.161818  2.818993  \n",
       "2        -0.161818 -0.264377  \n",
       "3        -0.161818 -0.264377  \n",
       "4        -0.161818 -0.264377  \n",
       "5        -0.161818 -0.264377  \n",
       "\n",
       "[5 rows x 6040 columns]"
      ]
     },
     "execution_count": 82,
     "metadata": {},
     "output_type": "execute_result"
    }
   ],
   "source": [
    "user_rating_scaled.head()"
   ]
  },
  {
   "cell_type": "markdown",
   "metadata": {
    "id": "V48u6mJ3cQMX"
   },
   "source": [
    "# Part-2: Covariance matrix  (15 points)\n",
    "Now the preprocessing is finished. Next, as explained in the lecture, you need to compute the covariance matrix https://en.wikipedia.org/wiki/Covariance_matrix. Given $n \\times m$ $n$ rows and $m$ columns matrix, a covariance matrix is an $n \\times n$ matrix given as below (sigma)\n",
    "$\\Sigma = \\frac{1}{m}\\sum{\\left(x^{i}\\right)\\times \\left(x^{i}\\right)^{T}}$\n",
    "You may use the \"numpy.cov\" function in numpy library "
   ]
  },
  {
   "cell_type": "code",
   "execution_count": 83,
   "metadata": {
    "id": "NOxI0l5mcQMZ"
   },
   "outputs": [
    {
     "name": "stdout",
     "output_type": "stream",
     "text": [
      "(6040, 6040)\n"
     ]
    }
   ],
   "source": [
    "# Compute X to covariance matrix cov_matrix.\n",
    "cov_matrix = np.cov(user_rating_scaled.T.values)\n",
    "print(cov_matrix.shape)"
   ]
  },
  {
   "cell_type": "markdown",
   "metadata": {
    "id": "P6ZqCRZrcQMb"
   },
   "source": [
    "# Instructions for part 3, 4, and 5\n",
    "- getSVD() function is expected to return 3 values. For example: ```U, S, V = getSVD(cov_matrix)```\n",
    "- You can follow the skeleton below to have an idea on how the autograder's test calls your functions:\n",
    "```\n",
    "U, S, V = getSVD(cov_matrix)\n",
    "z = getKComponents(U, X, k)\n",
    "ratio = getVarianceRatio(z, U, X, k)\n",
    "```\n",
    "- Using the built-in PCA implementation in sklearn, the approximate X matrix can be obtained by function ```inverse_transform```"
   ]
  },
  {
   "cell_type": "markdown",
   "metadata": {
    "id": "BkPzkSqccQMd"
   },
   "source": [
    "# Part-3: SVD computation  (10 points)\n",
    "Now compute the SVD on the covariance matrix $SVD(\\Sigma)$. You may use the svd implementation in numpy.linalg.svd"
   ]
  },
  {
   "cell_type": "code",
   "execution_count": 84,
   "metadata": {
    "id": "iLDJEYGzcQMe"
   },
   "outputs": [],
   "source": [
    "def getSVD(cov_matrix):\n",
    "    #TODO user np.linalg.svd here\n",
    "    return np.linalg.svd(cov_matrix, compute_uv = True)"
   ]
  },
  {
   "cell_type": "code",
   "execution_count": 85,
   "metadata": {
    "id": "mR5lRoircQMf"
   },
   "outputs": [],
   "source": [
    "U, S, V = getSVD(cov_matrix)"
   ]
  },
  {
   "cell_type": "code",
   "execution_count": 86,
   "metadata": {},
   "outputs": [
    {
     "name": "stdout",
     "output_type": "stream",
     "text": [
      "(6040, 6040)\n",
      "(6040,)\n",
      "(6040, 6040)\n"
     ]
    }
   ],
   "source": [
    "print(U.shape)\n",
    "print(S.shape)\n",
    "print(V.shape)"
   ]
  },
  {
   "cell_type": "markdown",
   "metadata": {
    "id": "_x6G67dQcQMg"
   },
   "source": [
    "# Part-4: Compute PCA matrix (K dimensional)  (10 points)\n",
    "Now select the first $k$ columns from the matrix $U$ and multiply with $X$ to get $k$ dimensional representation."
   ]
  },
  {
   "cell_type": "code",
   "execution_count": 87,
   "metadata": {
    "id": "xmhXImzPcQMh"
   },
   "outputs": [],
   "source": [
    "def getKComponents(U, X, K):\n",
    "    # implement matrix multiplication of first k columns of U * X\n",
    "    reducedU = U[:, :K]\n",
    "    return np.matmul(X, reducedU)"
   ]
  },
  {
   "cell_type": "code",
   "execution_count": 88,
   "metadata": {},
   "outputs": [
    {
     "name": "stdout",
     "output_type": "stream",
     "text": [
      "(3666, 2)\n"
     ]
    }
   ],
   "source": [
    "k = 2\n",
    "Z = getKComponents(U, user_rating_scaled.values, k)\n",
    "print(Z.shape)"
   ]
  },
  {
   "cell_type": "markdown",
   "metadata": {
    "id": "c-U7c99wcQMi"
   },
   "source": [
    "# Part-5: Compute Reconstruction Error  (15 points)\n",
    "Implement a function to compute the variance ratio (from reconstruction error)"
   ]
  },
  {
   "cell_type": "code",
   "execution_count": 89,
   "metadata": {
    "id": "Hwp0KPgRcQMj"
   },
   "outputs": [],
   "source": [
    "def getVarianceRatio(Z, U, X, K):\n",
    "    #Implement computation of reconstruction error\n",
    "    x_approx = np.matmul(Z, U[:,:K].T)\n",
    "    ratio = np.mean((X - x_approx).T.dot(X - x_approx)) / np.mean((X.T).dot(X))\n",
    "    return ratio"
   ]
  },
  {
   "cell_type": "code",
   "execution_count": 90,
   "metadata": {
    "id": "Z_CHCkSncQMk"
   },
   "outputs": [],
   "source": [
    "ratio = getVarianceRatio(Z, U, user_rating_scaled.values, k)"
   ]
  },
  {
   "cell_type": "code",
   "execution_count": 91,
   "metadata": {},
   "outputs": [
    {
     "name": "stdout",
     "output_type": "stream",
     "text": [
      "0.0056837412913196056\n"
     ]
    }
   ],
   "source": [
    "print(ratio)"
   ]
  },
  {
   "cell_type": "markdown",
   "metadata": {
    "id": "9ugXc6QccQMk"
   },
   "source": [
    "Compare the variance ration to the built-in PCA implementation in sklearn https://scikit-learn.org/stable/modules/generated/sklearn.decomposition.PCA.html (this step is optional)"
   ]
  },
  {
   "cell_type": "code",
   "execution_count": 92,
   "metadata": {},
   "outputs": [],
   "source": [
    "X = user_rating_scaled.values"
   ]
  },
  {
   "cell_type": "code",
   "execution_count": 93,
   "metadata": {
    "id": "xuFqjnlLcQMl"
   },
   "outputs": [
    {
     "data": {
      "text/plain": [
       "0.005683737877050165"
      ]
     },
     "execution_count": 93,
     "metadata": {},
     "output_type": "execute_result"
    }
   ],
   "source": [
    "from sklearn.decomposition import PCA\n",
    "pca = PCA(n_components=k)\n",
    "z_pca = pca.fit_transform(user_rating_scaled)\n",
    "X_approx_pca = pca.inverse_transform(z_pca)\n",
    "ratio_pca = np.mean((X-X_approx_pca).T.dot(X-X_approx_pca))/np.mean(X.T.dot(X))\n",
    "ratio_pca"
   ]
  },
  {
   "cell_type": "markdown",
   "metadata": {
    "id": "4B8mYZ2VcQMm"
   },
   "source": [
    "# Part-6: Scatter plot 2-dimensional PCA  (10 points)\n",
    "Using matplotlib plot the 2-dimensional scatter plot of the first 2 compoenents with y (movie genre from movies.dat file) as labels. Remember you are plotting movies in dimensions so you can label them with movie generes."
   ]
  },
  {
   "cell_type": "code",
   "execution_count": 94,
   "metadata": {},
   "outputs": [],
   "source": [
    "def map_genre(x):\n",
    "    types = ['Action', 'Animation', 'Comedy', 'Drama', 'Romance', 'Thriller', 'Adventure', 'Sci-Fi', 'War', 'Documentary']\n",
    "    for t in types:\n",
    "        if t in x:\n",
    "            return t\n",
    "    return 'None'"
   ]
  },
  {
   "cell_type": "code",
   "execution_count": 95,
   "metadata": {},
   "outputs": [],
   "source": [
    "movie_data['mapped_genre'] =  movie_data.genres.apply(lambda x: map_genre(x))"
   ]
  },
  {
   "cell_type": "code",
   "execution_count": 96,
   "metadata": {},
   "outputs": [
    {
     "data": {
      "text/html": [
       "<div>\n",
       "<style scoped>\n",
       "    .dataframe tbody tr th:only-of-type {\n",
       "        vertical-align: middle;\n",
       "    }\n",
       "\n",
       "    .dataframe tbody tr th {\n",
       "        vertical-align: top;\n",
       "    }\n",
       "\n",
       "    .dataframe thead th {\n",
       "        text-align: right;\n",
       "    }\n",
       "</style>\n",
       "<table border=\"1\" class=\"dataframe\">\n",
       "  <thead>\n",
       "    <tr style=\"text-align: right;\">\n",
       "      <th></th>\n",
       "      <th>movie_id</th>\n",
       "      <th>title</th>\n",
       "      <th>genres</th>\n",
       "      <th>mapped_genre</th>\n",
       "    </tr>\n",
       "  </thead>\n",
       "  <tbody>\n",
       "    <tr>\n",
       "      <th>0</th>\n",
       "      <td>1</td>\n",
       "      <td>Toy Story (1995)</td>\n",
       "      <td>[Animation, Children's, Comedy]</td>\n",
       "      <td>Animation</td>\n",
       "    </tr>\n",
       "    <tr>\n",
       "      <th>1</th>\n",
       "      <td>2</td>\n",
       "      <td>Jumanji (1995)</td>\n",
       "      <td>[Adventure, Children's, Fantasy]</td>\n",
       "      <td>Adventure</td>\n",
       "    </tr>\n",
       "    <tr>\n",
       "      <th>2</th>\n",
       "      <td>3</td>\n",
       "      <td>Grumpier Old Men (1995)</td>\n",
       "      <td>[Comedy, Romance]</td>\n",
       "      <td>Comedy</td>\n",
       "    </tr>\n",
       "    <tr>\n",
       "      <th>3</th>\n",
       "      <td>4</td>\n",
       "      <td>Waiting to Exhale (1995)</td>\n",
       "      <td>[Comedy, Drama]</td>\n",
       "      <td>Comedy</td>\n",
       "    </tr>\n",
       "    <tr>\n",
       "      <th>4</th>\n",
       "      <td>5</td>\n",
       "      <td>Father of the Bride Part II (1995)</td>\n",
       "      <td>[Comedy]</td>\n",
       "      <td>Comedy</td>\n",
       "    </tr>\n",
       "  </tbody>\n",
       "</table>\n",
       "</div>"
      ],
      "text/plain": [
       "   movie_id                               title  \\\n",
       "0         1                    Toy Story (1995)   \n",
       "1         2                      Jumanji (1995)   \n",
       "2         3             Grumpier Old Men (1995)   \n",
       "3         4            Waiting to Exhale (1995)   \n",
       "4         5  Father of the Bride Part II (1995)   \n",
       "\n",
       "                             genres mapped_genre  \n",
       "0   [Animation, Children's, Comedy]    Animation  \n",
       "1  [Adventure, Children's, Fantasy]    Adventure  \n",
       "2                 [Comedy, Romance]       Comedy  \n",
       "3                   [Comedy, Drama]       Comedy  \n",
       "4                          [Comedy]       Comedy  "
      ]
     },
     "execution_count": 96,
     "metadata": {},
     "output_type": "execute_result"
    }
   ],
   "source": [
    "movie_data.head()"
   ]
  },
  {
   "cell_type": "code",
   "execution_count": 97,
   "metadata": {},
   "outputs": [
    {
     "data": {
      "text/plain": [
       "(3666, 4)"
      ]
     },
     "execution_count": 97,
     "metadata": {},
     "output_type": "execute_result"
    }
   ],
   "source": [
    "movie_data.shape"
   ]
  },
  {
   "cell_type": "code",
   "execution_count": 98,
   "metadata": {
    "id": "E4kiYkticQMm"
   },
   "outputs": [],
   "source": [
    "import matplotlib.pyplot as plt\n",
    "\n",
    "def plotFunction(PCA, movie_data):\n",
    "    labels = np.unique(movie_data.mapped_genre)\n",
    "    fig, ax = plt.subplots(figsize = (10, 10))\n",
    "    colors = {'Action': '#000000', 'Animation': '#ff0000', 'Comedy': '#00ff00', 'Drama': '#0000ff', 'Romance': '#ffff00', 'Thriller': '#00ffbf', 'Adventure': '#ffbf00', 'Sci-Fi': '#00bfff', 'War': '#ff00ff', 'Documentary': '#8000ff', 'None': '#f00fff'}\n",
    "    temp_z = PCA[:, :2]\n",
    "    for i in labels:\n",
    "        x = temp_z[(movie_data.loc[movie_data[\"mapped_genre\"] == i]).index][:, 0]\n",
    "        y = temp_z[(movie_data.loc[movie_data[\"mapped_genre\"] == i]).index][:, 1]\n",
    "        ax.scatter(x, y, c = colors[i], s = 10, label = i)\n",
    "    plt.legend()\n",
    "    plt.show()"
   ]
  },
  {
   "cell_type": "code",
   "execution_count": 99,
   "metadata": {
    "id": "-6oiirHOcQMn"
   },
   "outputs": [
    {
     "data": {
      "image/png": "[encoded data removed]",
      "text/plain": [
       "<Figure size 720x720 with 1 Axes>"
      ]
     },
     "metadata": {
      "needs_background": "light"
     },
     "output_type": "display_data"
    }
   ],
   "source": [
    "plotFunction(Z, movie_data)"
   ]
  },
  {
   "cell_type": "markdown",
   "metadata": {
    "id": "TpAxe9cIcQMo"
   },
   "source": [
    "# Part-7 Find best $K$  (10 points)\n",
    "Find the minimum value of $K$ with which the ratio between averaged squared projection error with total variation in data is less than 0.1% in other words we retain 99.9% of the variance. You can achieve this by repeating getKComponents with $K=1$ until the variance ratio is <= 0.1%."
   ]
  },
  {
   "cell_type": "code",
   "execution_count": 100,
   "metadata": {
    "id": "GSfgzahNcQMo"
   },
   "outputs": [],
   "source": [
    "def findBestK(initial, step):\n",
    "    #TODO use the getVarianceRatio to find the best K\n",
    "    for i in range(initial, user_rating.shape[1], step):\n",
    "        variance_ratio = getVarianceRatio(getKComponents(U, user_rating_scaled.values, i), U, user_rating_scaled.values, i)\n",
    "        print(\"Variance Ratio = \", variance_ratio, \" with k = \", i)\n",
    "        if (variance_ratio <= 0.001):\n",
    "            return i\n",
    "    return 1"
   ]
  },
  {
   "cell_type": "code",
   "execution_count": 101,
   "metadata": {
    "scrolled": true
   },
   "outputs": [
    {
     "name": "stdout",
     "output_type": "stream",
     "text": [
      "Variance Ratio =  0.008406455306706393  with k =  1\n",
      "Variance Ratio =  0.0033452879121846643  with k =  6\n",
      "Variance Ratio =  0.0013431089594516635  with k =  11\n",
      "Variance Ratio =  0.0011625448459445873  with k =  16\n",
      "Variance Ratio =  0.0009864215661194897  with k =  21\n"
     ]
    }
   ],
   "source": [
    "k = findBestK(1, 5)"
   ]
  },
  {
   "cell_type": "markdown",
   "metadata": {
    "id": "Wcoi-qpycQMp"
   },
   "source": [
    "# Part-8: TSNE visualization (10 points)\n",
    "Finally, having found an optimal $K$ use these components as an input data to another dimensionality reduction method called tSNE (https://en.wikipedia.org/wiki/T-distributed_stochastic_neighbor_embedding) and reduce it to 2 dimensions."
   ]
  },
  {
   "cell_type": "code",
   "execution_count": 102,
   "metadata": {
    "id": "2MZ0JT8vcQMp"
   },
   "outputs": [],
   "source": [
    "from sklearn.manifold import TSNE\n",
    "tsne_pca_results = TSNE(n_components = 2, learning_rate = \"auto\", init = \"random\").fit_transform(getKComponents(U, user_rating_scaled.values, k))"
   ]
  },
  {
   "cell_type": "markdown",
   "metadata": {
    "id": "udXXci3-cQMq"
   },
   "source": [
    "Finally, scatter plot the components given by the tSNE using matplotlib compare it to the earlier scatter plot."
   ]
  },
  {
   "cell_type": "code",
   "execution_count": 103,
   "metadata": {
    "id": "HCpIEwC9cQMq"
   },
   "outputs": [
    {
     "data": {
      "image/png": "[encoded data removed]",
      "text/plain": [
       "<Figure size 720x720 with 1 Axes>"
      ]
     },
     "metadata": {
      "needs_background": "light"
     },
     "output_type": "display_data"
    }
   ],
   "source": [
    "# Scatter plot the 2-dimensional tsne compoents with target as labels\n",
    "plotFunction(tsne_pca_results, movie_data)"
   ]
  },
  {
   "cell_type": "code",
   "execution_count": null,
   "metadata": {},
   "outputs": [],
   "source": []
  }
 ],
 "metadata": {
  "colab": {
   "collapsed_sections": [],
   "name": "Assignment-3.ipynb",
   "provenance": []
  },
  "kernelspec": {
   "display_name": "Python 3 (ipykernel)",
   "language": "python",
   "name": "python3"
  },
  "language_info": {
   "codemirror_mode": {
    "name": "ipython",
    "version": 3
   },
   "file_extension": ".py",
   "mimetype": "text/x-python",
   "name": "python",
   "nbconvert_exporter": "python",
   "pygments_lexer": "ipython3",
   "version": "3.7.0"
  },
  "latex_envs": {
   "LaTeX_envs_menu_present": true,
   "autoclose": false,
   "autocomplete": true,
   "bibliofile": "biblio.bib",
   "cite_by": "apalike",
   "current_citInitial": 1,
   "eqLabelWithNumbers": true,
   "eqNumInitial": 1,
   "hotkeys": {
    "equation": "Ctrl-E",
    "itemize": "Ctrl-I"
   },
   "labels_anchors": false,
   "latex_user_defs": false,
   "report_style_numbering": false,
   "user_envs_cfg": false
  }
 },
 "nbformat": 4,
 "nbformat_minor": 1
}
